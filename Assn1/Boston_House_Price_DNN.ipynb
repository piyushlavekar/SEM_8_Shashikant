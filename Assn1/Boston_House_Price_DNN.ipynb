{
  "cells": [
    {
      "cell_type": "markdown",
      "metadata": {
        "id": "lYahO4A-Glbq"
      },
      "source": [
        "# Assignment 6: Boston House Prediction using DNN\n"
      ]
    },
    {
      "cell_type": "code",
      "execution_count": null,
      "metadata": {
        "id": "hkl4ug63IsZc"
      },
      "outputs": [],
      "source": [
        "import numpy as np\n",
        "import pandas as pd\n",
        "import torch\n",
        "from torch import nn"
      ]
    },
    {
      "cell_type": "code",
      "execution_count": null,
      "metadata": {
        "colab": {
          "base_uri": "https://localhost:8080/",
          "height": 424
        },
        "id": "gJCx8RlYGky2",
        "outputId": "3eb15202-2464-4ae7-9731-ed26e09237ba"
      },
      "outputs": [],
      "source": [
        "ds = pd.read_csv( \"HousingData.csv\" )\n",
        "ds"
      ]
    },
    {
      "cell_type": "code",
      "execution_count": null,
      "metadata": {
        "id": "cmsIUf_jJMnV"
      },
      "outputs": [],
      "source": [
        "ds.dropna(inplace=True)"
      ]
    },
    {
      "cell_type": "code",
      "execution_count": null,
      "metadata": {
        "id": "oiS6fKf5I12k"
      },
      "outputs": [],
      "source": [
        "def min_max_normalize(name):\n",
        "  max_ = ds[name].max()\n",
        "  min_ = ds[name].min()\n",
        "  ds[name] = (ds[name] - min_) / ( max_ - min_ )\n",
        "\n",
        "for col in ds.drop([\"MEDV\"], axis=1).columns:\n",
        "    min_max_normalize(col)"
      ]
    },
    {
      "cell_type": "code",
      "execution_count": null,
      "metadata": {
        "colab": {
          "base_uri": "https://localhost:8080/"
        },
        "id": "5SWfwuqYJlSV",
        "outputId": "b6d17329-3a43-429a-f317-14a25098c541"
      },
      "outputs": [],
      "source": [
        "from sklearn.model_selection import train_test_split\n",
        "\n",
        "x = np.array(ds.drop([\"MEDV\"], axis=1))\n",
        "y = np.array(ds[\"MEDV\"])\n",
        "x_train, x_test, y_train, y_test = train_test_split(x, y, test_size=0.3, random_state=22)\n",
        "y_train = np.expand_dims(y_train, axis=1)\n",
        "y_test = np.expand_dims(y_test, axis=1)\n",
        "print(x_train.shape)\n",
        "print(x_test.shape)\n",
        "print(y_train.shape)\n",
        "print(y_test.shape)\n",
        "\n",
        "x_train = torch.Tensor(x_train)\n",
        "y_train = torch.Tensor(y_train)\n",
        "x_test = torch.Tensor(x_test)\n",
        "y_test = torch.Tensor(y_test)\n",
        "\n",
        "loader = torch.utils.data.DataLoader(torch.utils.data.TensorDataset(x_train, y_train), batch_size=16, shuffle=True)"
      ]
    },
    {
      "cell_type": "code",
      "execution_count": null,
      "metadata": {
        "id": "wVOLaxR7MpmC"
      },
      "outputs": [],
      "source": [
        "model = nn.Sequential(\n",
        "    nn.Linear(13, 32),\n",
        "    nn.ReLU(),\n",
        "    nn.Linear(32, 16),\n",
        "    nn.ReLU(),\n",
        "    nn.Linear(16, 8),\n",
        "    nn.ReLU(),\n",
        "    nn.Linear(8, 1)\n",
        ")\n",
        "\n",
        "loss = nn.L1Loss()\n",
        "optimizer = torch.optim.Adam(model.parameters(), lr=0.001)"
      ]
    },
    {
      "cell_type": "code",
      "execution_count": null,
      "metadata": {
        "colab": {
          "base_uri": "https://localhost:8080/"
        },
        "id": "3cUuNHuwJ69w",
        "outputId": "439bee50-cafb-4cb0-f3c0-aa5c1aaccc8f"
      },
      "outputs": [],
      "source": [
        "def train_step(batch_x, batch_y):\n",
        "  model.train()\n",
        "  preds = model.forward(batch_x)\n",
        "  batch_loss = loss(preds, batch_y)\n",
        "  batch_loss.backward()\n",
        "  optimizer.step()\n",
        "  optimizer.zero_grad()\n",
        "  return batch_loss.item()\n",
        "\n",
        "def train_epoch():\n",
        "  epoch_loss = 0.0\n",
        "  for batch_x, batch_y in loader:\n",
        "    epoch_loss += train_step(batch_x, batch_y)\n",
        "  return epoch_loss / len(loader)\n",
        "\n",
        "def val_epoch():\n",
        "  model.eval()\n",
        "  preds = model.forward(x_test)\n",
        "  val_loss = loss(preds, y_test)\n",
        "  return val_loss.item()\n",
        "\n",
        "for e in range(200):\n",
        "  train_loss = train_epoch()\n",
        "  val_loss = val_epoch()\n",
        "  print(train_loss, val_loss)"
      ]
    }
  ],
  "metadata": {
    "colab": {
      "provenance": []
    },
    "kernelspec": {
      "display_name": "Python 3",
      "name": "python3"
    },
    "language_info": {
      "name": "python"
    }
  },
  "nbformat": 4,
  "nbformat_minor": 0
}
