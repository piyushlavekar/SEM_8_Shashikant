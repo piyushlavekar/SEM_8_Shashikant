{
 "cells": [
  {
   "cell_type": "code",
   "execution_count": 1,
   "id": "678cf921-afc0-4589-9d35-2f5a67d3424a",
   "metadata": {},
   "outputs": [],
   "source": [
    "# Step 1: Import Libraries\n",
    "import numpy as np\n",
    "import pandas as pd\n",
    "import matplotlib.pyplot as plt\n",
    "from sklearn.model_selection import train_test_split\n",
    "from sklearn.preprocessing import StandardScaler\n",
    "from tensorflow.keras.models import Sequential\n",
    "from tensorflow.keras.layers import Dense\n",
    "from tensorflow.keras.datasets import boston_housing\n",
    "from tensorflow.keras import Input"
   ]
  },
  {
   "cell_type": "code",
   "execution_count": 2,
   "id": "f383d5d1-71a0-4f38-9fc6-328faf35197e",
   "metadata": {},
   "outputs": [],
   "source": [
    "# Step 2: Load the Boston Housing dataset\n",
    "(x_train, y_train), (x_test, y_test) = boston_housing.load_data()"
   ]
  },
  {
   "cell_type": "code",
   "execution_count": 3,
   "id": "e7814af7-b802-41e9-a175-5c9e81b84534",
   "metadata": {},
   "outputs": [
    {
     "name": "stdout",
     "output_type": "stream",
     "text": [
      "Training data shape: (404, 13)\n",
      "Test data shape: (102, 13)\n"
     ]
    }
   ],
   "source": [
    "print(\"Training data shape:\", x_train.shape)\n",
    "print(\"Test data shape:\", x_test.shape)"
   ]
  },
  {
   "cell_type": "code",
   "execution_count": 4,
   "id": "74fe21a7-f841-4521-8289-9dc8d6dffc5c",
   "metadata": {},
   "outputs": [],
   "source": [
    "# Step 3: Data Normalization\n",
    "scaler = StandardScaler()\n",
    "x_train_scaled = scaler.fit_transform(x_train)\n",
    "x_test_scaled = scaler.transform(x_test)"
   ]
  },
  {
   "cell_type": "code",
   "execution_count": 5,
   "id": "07f99ddc-de9f-4e52-b1ef-e05d501fa444",
   "metadata": {},
   "outputs": [],
   "source": [
    "# Step 4: Build the Neural Network model\n",
    "model = Sequential([\n",
    "    Input(shape=(x_train.shape[1],)),  # Explicit input layer\n",
    "    Dense(64, activation='relu'),\n",
    "    Dense(64, activation='relu'),\n",
    "    Dense(1)  # Linear output for regression\n",
    "])"
   ]
  },
  {
   "cell_type": "code",
   "execution_count": 6,
   "id": "8fe070e9-4100-42e7-b3a0-a495801b4764",
   "metadata": {},
   "outputs": [],
   "source": [
    "# Step 5: Compile the model\n",
    "model.compile(optimizer='adam', loss='mse', metrics=['mae'])"
   ]
  },
  {
   "cell_type": "code",
   "execution_count": 7,
   "id": "2f848521-5b26-4166-8dd8-0aa15b78ecf3",
   "metadata": {},
   "outputs": [],
   "source": [
    "# Step 6: Train the model\n",
    "history = model.fit(x_train_scaled, y_train, epochs=100, validation_split=0.2, verbose=0)"
   ]
  },
  {
   "cell_type": "code",
   "execution_count": 8,
   "id": "4f2120b5-78de-4d1b-9fd2-30896d522b3f",
   "metadata": {},
   "outputs": [
    {
     "name": "stdout",
     "output_type": "stream",
     "text": [
      "\u001b[1m4/4\u001b[0m \u001b[32m━━━━━━━━━━━━━━━━━━━━\u001b[0m\u001b[37m\u001b[0m \u001b[1m0s\u001b[0m 3ms/step - loss: 18.8443 - mae: 2.8709 \n",
      "\n",
      "Test Mean Absolute Error: 3.09\n"
     ]
    }
   ],
   "source": [
    "# Step 7: Evaluate the model\n",
    "test_loss, test_mae = model.evaluate(x_test_scaled, y_test)\n",
    "print(f\"\\nTest Mean Absolute Error: {test_mae:.2f}\") "
   ]
  },
  {
   "cell_type": "code",
   "execution_count": 9,
   "id": "abb3430e-b13f-4199-b33e-94437e0bae1a",
   "metadata": {},
   "outputs": [
    {
     "data": {
      "image/png": "[encoded data removed]",
      "text/plain": [
       "<Figure size 432x288 with 1 Axes>"
      ]
     },
     "metadata": {
      "needs_background": "light"
     },
     "output_type": "display_data"
    }
   ],
   "source": [
    "# Step 8: Plot training history\n",
    "plt.plot(history.history['mae'], label='Train MAE')\n",
    "plt.plot(history.history['val_mae'], label='Validation MAE')\n",
    "plt.xlabel('Epoch')\n",
    "plt.ylabel('Mean Absolute Error')\n",
    "plt.title('Training and Validation MAE')\n",
    "plt.legend()\n",
    "plt.show()"
   ]
  },
  {
   "cell_type": "code",
   "execution_count": null,
   "id": "6efb4304-4445-41e0-a50c-176b69c1e663",
   "metadata": {},
   "outputs": [
    {
     "name": "stdout",
     "output_type": "stream",
     "text": [
      "\u001b[1m4/4\u001b[0m \u001b[32m━━━━━━━━━━━━━━━━━━━━\u001b[0m\u001b[37m\u001b[0m \u001b[1m0s\u001b[0m 2ms/step \n"
     ]
    },
    {
     "data": {
      "text/plain": [
       "array([[ 9.515345 ],\n",
       "       [17.333948 ],\n",
       "       [21.304747 ],\n",
       "       [31.426603 ],\n",
       "       [25.257189 ],\n",
       "       [18.977392 ],\n",
       "       [26.528631 ],\n",
       "       [20.682394 ],\n",
       "       [19.956121 ],\n",
       "       [22.969862 ],\n",
       "       [19.699837 ],\n",
       "       [17.174387 ],\n",
       "       [15.59561  ],\n",
       "       [41.68376  ],\n",
       "       [19.256617 ],\n",
       "       [19.75146  ],\n",
       "       [25.633831 ],\n",
       "       [20.617285 ],\n",
       "       [18.896767 ],\n",
       "       [36.83763  ],\n",
       "       [12.090933 ],\n",
       "       [15.935605 ],\n",
       "       [20.767397 ],\n",
       "       [15.676322 ],\n",
       "       [21.682878 ],\n",
       "       [25.53559  ],\n",
       "       [30.531507 ],\n",
       "       [28.702732 ],\n",
       "       [11.018049 ],\n",
       "       [20.983915 ],\n",
       "       [18.699188 ],\n",
       "       [15.441259 ],\n",
       "       [34.166878 ],\n",
       "       [24.284346 ],\n",
       "       [18.41638  ],\n",
       "       [ 9.11472  ],\n",
       "       [14.869068 ],\n",
       "       [19.532854 ],\n",
       "       [19.564909 ],\n",
       "       [25.03224  ],\n",
       "       [31.67544  ],\n",
       "       [28.185625 ],\n",
       "       [13.878515 ],\n",
       "       [40.169765 ],\n",
       "       [30.457798 ],\n",
       "       [24.682035 ],\n",
       "       [25.659227 ],\n",
       "       [16.563166 ],\n",
       "       [24.155924 ],\n",
       "       [22.296686 ],\n",
       "       [33.505596 ],\n",
       "       [19.78067  ],\n",
       "       [12.634842 ],\n",
       "       [15.697076 ],\n",
       "       [34.746124 ],\n",
       "       [27.348585 ],\n",
       "       [12.483416 ],\n",
       "       [47.68031  ],\n",
       "       [35.676514 ],\n",
       "       [24.061155 ],\n",
       "       [25.870636 ],\n",
       "       [18.108522 ],\n",
       "       [15.715083 ],\n",
       "       [17.912558 ],\n",
       "       [22.695957 ],\n",
       "       [21.952665 ],\n",
       "       [12.472418 ],\n",
       "       [21.81603  ],\n",
       "       [14.143005 ],\n",
       "       [ 7.9578032],\n",
       "       [36.47049  ],\n",
       "       [29.280573 ],\n",
       "       [25.802433 ],\n",
       "       [14.619152 ],\n",
       "       [24.950947 ],\n",
       "       [18.857075 ],\n",
       "       [19.877018 ],\n",
       "       [23.483974 ],\n",
       "       [35.093536 ],\n",
       "       [11.602919 ],\n",
       "       [19.402622 ],\n",
       "       [37.850018 ],\n",
       "       [16.500212 ],\n",
       "       [13.333233 ],\n",
       "       [18.048666 ],\n",
       "       [18.199883 ],\n",
       "       [21.531649 ],\n",
       "       [20.587713 ],\n",
       "       [22.55407  ],\n",
       "       [30.86702  ],\n",
       "       [20.914804 ],\n",
       "       [21.444983 ],\n",
       "       [24.825325 ],\n",
       "       [41.25301  ],\n",
       "       [35.37019  ],\n",
       "       [18.374308 ],\n",
       "       [35.700623 ],\n",
       "       [53.361916 ],\n",
       "       [26.847319 ],\n",
       "       [43.619312 ],\n",
       "       [31.936037 ],\n",
       "       [21.495455 ]], dtype=float32)"
      ]
     },
     "execution_count": 14,
     "metadata": {},
     "output_type": "execute_result"
    }
   ],
   "source": [
    "# Step 9: Predict on test data\n",
    "predictions = model.predict(x_test_scaled)\n",
    "# predictions"
   ]
  },
  {
   "cell_type": "code",
   "execution_count": 17,
   "id": "b35e0752-0cb5-4007-b207-e2ffa4b3e3af",
   "metadata": {},
   "outputs": [
    {
     "name": "stdout",
     "output_type": "stream",
     "text": [
      "Predicted: 9.52, Actual: 7.2\n",
      "Predicted: 17.33, Actual: 18.8\n",
      "Predicted: 21.30, Actual: 19.0\n",
      "Predicted: 31.43, Actual: 27.0\n",
      "Predicted: 25.26, Actual: 22.2\n",
      "Predicted: 18.98, Actual: 24.5\n",
      "Predicted: 26.53, Actual: 31.2\n",
      "Predicted: 20.68, Actual: 22.9\n",
      "Predicted: 19.96, Actual: 20.5\n",
      "Predicted: 22.97, Actual: 23.2\n",
      "Predicted: 19.70, Actual: 18.6\n",
      "Predicted: 17.17, Actual: 14.5\n",
      "Predicted: 15.60, Actual: 17.8\n",
      "Predicted: 41.68, Actual: 50.0\n",
      "Predicted: 19.26, Actual: 20.8\n",
      "Predicted: 19.75, Actual: 24.3\n",
      "Predicted: 25.63, Actual: 24.2\n",
      "Predicted: 20.62, Actual: 19.8\n",
      "Predicted: 18.90, Actual: 19.1\n",
      "Predicted: 36.84, Actual: 22.7\n",
      "Predicted: 12.09, Actual: 12.0\n",
      "Predicted: 15.94, Actual: 10.2\n",
      "Predicted: 20.77, Actual: 20.0\n",
      "Predicted: 15.68, Actual: 18.5\n",
      "Predicted: 21.68, Actual: 20.9\n",
      "Predicted: 25.54, Actual: 23.0\n",
      "Predicted: 30.53, Actual: 27.5\n",
      "Predicted: 28.70, Actual: 30.1\n",
      "Predicted: 11.02, Actual: 9.5\n",
      "Predicted: 20.98, Actual: 22.0\n",
      "Predicted: 18.70, Actual: 21.2\n",
      "Predicted: 15.44, Actual: 14.1\n",
      "Predicted: 34.17, Actual: 33.1\n",
      "Predicted: 24.28, Actual: 23.4\n",
      "Predicted: 18.42, Actual: 20.1\n",
      "Predicted: 9.11, Actual: 7.4\n",
      "Predicted: 14.87, Actual: 15.4\n",
      "Predicted: 19.53, Actual: 23.8\n",
      "Predicted: 19.56, Actual: 20.1\n",
      "Predicted: 25.03, Actual: 24.5\n",
      "Predicted: 31.68, Actual: 33.0\n",
      "Predicted: 28.19, Actual: 28.4\n",
      "Predicted: 13.88, Actual: 14.1\n",
      "Predicted: 40.17, Actual: 46.7\n",
      "Predicted: 30.46, Actual: 32.5\n",
      "Predicted: 24.68, Actual: 29.6\n",
      "Predicted: 25.66, Actual: 28.4\n",
      "Predicted: 16.56, Actual: 19.8\n",
      "Predicted: 24.16, Actual: 20.2\n",
      "Predicted: 22.30, Actual: 25.0\n"
     ]
    }
   ],
   "source": [
    "# Step 10: Show some predictions vs actual\n",
    "for i in range(50):\n",
    "    print(f\"Predicted: {predictions[i][0]:.2f}, Actual: {y_test[i]}\")"
   ]
  },
  {
   "cell_type": "code",
   "execution_count": 12,
   "id": "067bf487-d6ca-4274-a0bb-e4b92acf2446",
   "metadata": {},
   "outputs": [
    {
     "data": {
      "text/html": [
       "<pre style=\"white-space:pre;overflow-x:auto;line-height:normal;font-family:Menlo,'DejaVu Sans Mono',consolas,'Courier New',monospace\"><span style=\"font-weight: bold\">Model: \"sequential\"</span>\n",
       "</pre>\n"
      ],
      "text/plain": [
       "\u001b[1mModel: \"sequential\"\u001b[0m\n"
      ]
     },
     "metadata": {},
     "output_type": "display_data"
    },
    {
     "data": {
      "text/html": [
       "<pre style=\"white-space:pre;overflow-x:auto;line-height:normal;font-family:Menlo,'DejaVu Sans Mono',consolas,'Courier New',monospace\">┏━━━━━━━━━━━━━━━━━━━━━━━━━━━━━━━━━┳━━━━━━━━━━━━━━━━━━━━━━━━┳━━━━━━━━━━━━━━━┓\n",
       "┃<span style=\"font-weight: bold\"> Layer (type)                    </span>┃<span style=\"font-weight: bold\"> Output Shape           </span>┃<span style=\"font-weight: bold\">       Param # </span>┃\n",
       "┡━━━━━━━━━━━━━━━━━━━━━━━━━━━━━━━━━╇━━━━━━━━━━━━━━━━━━━━━━━━╇━━━━━━━━━━━━━━━┩\n",
       "│ dense (<span style=\"color: #0087ff; text-decoration-color: #0087ff\">Dense</span>)                   │ (<span style=\"color: #00d7ff; text-decoration-color: #00d7ff\">None</span>, <span style=\"color: #00af00; text-decoration-color: #00af00\">64</span>)             │           <span style=\"color: #00af00; text-decoration-color: #00af00\">896</span> │\n",
       "├─────────────────────────────────┼────────────────────────┼───────────────┤\n",
       "│ dense_1 (<span style=\"color: #0087ff; text-decoration-color: #0087ff\">Dense</span>)                 │ (<span style=\"color: #00d7ff; text-decoration-color: #00d7ff\">None</span>, <span style=\"color: #00af00; text-decoration-color: #00af00\">64</span>)             │         <span style=\"color: #00af00; text-decoration-color: #00af00\">4,160</span> │\n",
       "├─────────────────────────────────┼────────────────────────┼───────────────┤\n",
       "│ dense_2 (<span style=\"color: #0087ff; text-decoration-color: #0087ff\">Dense</span>)                 │ (<span style=\"color: #00d7ff; text-decoration-color: #00d7ff\">None</span>, <span style=\"color: #00af00; text-decoration-color: #00af00\">1</span>)              │            <span style=\"color: #00af00; text-decoration-color: #00af00\">65</span> │\n",
       "└─────────────────────────────────┴────────────────────────┴───────────────┘\n",
       "</pre>\n"
      ],
      "text/plain": [
       "┏━━━━━━━━━━━━━━━━━━━━━━━━━━━━━━━━━┳━━━━━━━━━━━━━━━━━━━━━━━━┳━━━━━━━━━━━━━━━┓\n",
       "┃\u001b[1m \u001b[0m\u001b[1mLayer (type)                   \u001b[0m\u001b[1m \u001b[0m┃\u001b[1m \u001b[0m\u001b[1mOutput Shape          \u001b[0m\u001b[1m \u001b[0m┃\u001b[1m \u001b[0m\u001b[1m      Param #\u001b[0m\u001b[1m \u001b[0m┃\n",
       "┡━━━━━━━━━━━━━━━━━━━━━━━━━━━━━━━━━╇━━━━━━━━━━━━━━━━━━━━━━━━╇━━━━━━━━━━━━━━━┩\n",
       "│ dense (\u001b[38;5;33mDense\u001b[0m)                   │ (\u001b[38;5;45mNone\u001b[0m, \u001b[38;5;34m64\u001b[0m)             │           \u001b[38;5;34m896\u001b[0m │\n",
       "├─────────────────────────────────┼────────────────────────┼───────────────┤\n",
       "│ dense_1 (\u001b[38;5;33mDense\u001b[0m)                 │ (\u001b[38;5;45mNone\u001b[0m, \u001b[38;5;34m64\u001b[0m)             │         \u001b[38;5;34m4,160\u001b[0m │\n",
       "├─────────────────────────────────┼────────────────────────┼───────────────┤\n",
       "│ dense_2 (\u001b[38;5;33mDense\u001b[0m)                 │ (\u001b[38;5;45mNone\u001b[0m, \u001b[38;5;34m1\u001b[0m)              │            \u001b[38;5;34m65\u001b[0m │\n",
       "└─────────────────────────────────┴────────────────────────┴───────────────┘\n"
      ]
     },
     "metadata": {},
     "output_type": "display_data"
    },
    {
     "data": {
      "text/html": [
       "<pre style=\"white-space:pre;overflow-x:auto;line-height:normal;font-family:Menlo,'DejaVu Sans Mono',consolas,'Courier New',monospace\"><span style=\"font-weight: bold\"> Total params: </span><span style=\"color: #00af00; text-decoration-color: #00af00\">15,365</span> (60.02 KB)\n",
       "</pre>\n"
      ],
      "text/plain": [
       "\u001b[1m Total params: \u001b[0m\u001b[38;5;34m15,365\u001b[0m (60.02 KB)\n"
      ]
     },
     "metadata": {},
     "output_type": "display_data"
    },
    {
     "data": {
      "text/html": [
       "<pre style=\"white-space:pre;overflow-x:auto;line-height:normal;font-family:Menlo,'DejaVu Sans Mono',consolas,'Courier New',monospace\"><span style=\"font-weight: bold\"> Trainable params: </span><span style=\"color: #00af00; text-decoration-color: #00af00\">5,121</span> (20.00 KB)\n",
       "</pre>\n"
      ],
      "text/plain": [
       "\u001b[1m Trainable params: \u001b[0m\u001b[38;5;34m5,121\u001b[0m (20.00 KB)\n"
      ]
     },
     "metadata": {},
     "output_type": "display_data"
    },
    {
     "data": {
      "text/html": [
       "<pre style=\"white-space:pre;overflow-x:auto;line-height:normal;font-family:Menlo,'DejaVu Sans Mono',consolas,'Courier New',monospace\"><span style=\"font-weight: bold\"> Non-trainable params: </span><span style=\"color: #00af00; text-decoration-color: #00af00\">0</span> (0.00 B)\n",
       "</pre>\n"
      ],
      "text/plain": [
       "\u001b[1m Non-trainable params: \u001b[0m\u001b[38;5;34m0\u001b[0m (0.00 B)\n"
      ]
     },
     "metadata": {},
     "output_type": "display_data"
    },
    {
     "data": {
      "text/html": [
       "<pre style=\"white-space:pre;overflow-x:auto;line-height:normal;font-family:Menlo,'DejaVu Sans Mono',consolas,'Courier New',monospace\"><span style=\"font-weight: bold\"> Optimizer params: </span><span style=\"color: #00af00; text-decoration-color: #00af00\">10,244</span> (40.02 KB)\n",
       "</pre>\n"
      ],
      "text/plain": [
       "\u001b[1m Optimizer params: \u001b[0m\u001b[38;5;34m10,244\u001b[0m (40.02 KB)\n"
      ]
     },
     "metadata": {},
     "output_type": "display_data"
    }
   ],
   "source": [
    "model.summary()"
   ]
  }
 ],
 "metadata": {
  "kernelspec": {
   "display_name": "Python 3",
   "language": "python",
   "name": "python3"
  },
  "language_info": {
   "codemirror_mode": {
    "name": "ipython",
    "version": 3
   },
   "file_extension": ".py",
   "mimetype": "text/x-python",
   "name": "python",
   "nbconvert_exporter": "python",
   "pygments_lexer": "ipython3",
   "version": "3.10.4"
  }
 },
 "nbformat": 4,
 "nbformat_minor": 5
}
