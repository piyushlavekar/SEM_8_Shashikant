{
 "cells": [
  {
   "cell_type": "code",
   "execution_count": 1,
   "id": "1d5a15b6-4c47-4c5c-ac40-474896fb7427",
   "metadata": {},
   "outputs": [],
   "source": [
    "# Step 1: Import Libraries\n",
    "import pandas as pd\n",
    "import numpy as np\n",
    "import matplotlib.pyplot as plt\n",
    "from tensorflow.keras.models import Sequential\n",
    "from tensorflow.keras.layers import Dense, Flatten, Dropout\n",
    "from tensorflow.keras.utils import to_categorical\n",
    "from sklearn.model_selection import train_test_split\n",
    "from sklearn.preprocessing import StandardScaler\n",
    "from tensorflow.keras.layers import Input"
   ]
  },
  {
   "cell_type": "code",
   "execution_count": 2,
   "id": "3ec1583b-5abc-4730-884e-20b0fa5bb5f0",
   "metadata": {},
   "outputs": [],
   "source": [
    "# Step 2: Load the OCR letter recognition dataset\n",
    "url = \"https://archive.ics.uci.edu/ml/machine-learning-databases/letter-recognition/letter-recognition.data\"\n",
    "column_names = ['letter'] + [f'pixel{i}' for i in range(1, 17)]\n",
    "data = pd.read_csv(url, names=column_names)"
   ]
  },
  {
   "cell_type": "code",
   "execution_count": 3,
   "id": "ac6351e5-44a1-4074-95d7-fbd08128ba73",
   "metadata": {},
   "outputs": [],
   "source": [
    "# Step 3: Preprocess the data\n",
    "X = data.drop('letter', axis=1).values\n",
    "y = data['letter'].values"
   ]
  },
  {
   "cell_type": "code",
   "execution_count": 4,
   "id": "569421fa-02e5-445c-8a1d-30d252ef48b4",
   "metadata": {},
   "outputs": [],
   "source": [
    "# Step 4: Convert labels to integers (A = 0, B = 1, ..., Z = 25)\n",
    "y = pd.Categorical(y).codes"
   ]
  },
  {
   "cell_type": "code",
   "execution_count": 5,
   "id": "9c4f2996-5216-4201-a6c3-ab6388ab5bf3",
   "metadata": {},
   "outputs": [],
   "source": [
    "# Step 5: Normalize the pixel values (Standardization)\n",
    "scaler = StandardScaler()\n",
    "X_scaled = scaler.fit_transform(X)"
   ]
  },
  {
   "cell_type": "code",
   "execution_count": 6,
   "id": "bc85b577-fef0-4805-b11a-bc49738881e6",
   "metadata": {},
   "outputs": [],
   "source": [
    "# Step 6: One-hot encode the labels for multiclass classification\n",
    "y_onehot = to_categorical(y, num_classes=26)"
   ]
  },
  {
   "cell_type": "code",
   "execution_count": 7,
   "id": "a30228d8-2d54-4459-95db-af011d1cb9ca",
   "metadata": {},
   "outputs": [],
   "source": [
    "# Step 7: Split the data into training and test sets\n",
    "X_train, X_test, y_train, y_test = train_test_split(X_scaled, y_onehot, test_size=0.2, random_state=42)"
   ]
  },
  {
   "cell_type": "code",
   "execution_count": 8,
   "id": "ab6c7b48-92c1-49e1-a56d-d5692b18d3f8",
   "metadata": {},
   "outputs": [],
   "source": [
    "# Step 8: Build the Deep Neural Network model\n",
    "\n",
    "# Build the Deep Neural Network model\n",
    "model = Sequential([\n",
    "    Input(shape=(X_train.shape[1],)),  # Input layer\n",
    "    Dense(128, activation='relu'),\n",
    "    Dropout(0.2),\n",
    "    Dense(64, activation='relu'),\n",
    "    Dense(26, activation='softmax')  # 26 classes for letters A-Z\n",
    "])\n"
   ]
  },
  {
   "cell_type": "code",
   "execution_count": 9,
   "id": "4d95a455-69f5-4ce4-ba8e-da98b85b69de",
   "metadata": {},
   "outputs": [],
   "source": [
    "# Step 9: Compile the model\n",
    "model.compile(optimizer='adam', loss='categorical_crossentropy', metrics=['accuracy'])"
   ]
  },
  {
   "cell_type": "code",
   "execution_count": 10,
   "id": "2c015e60-a2a5-4594-b71d-00f33d53aa82",
   "metadata": {},
   "outputs": [
    {
     "name": "stdout",
     "output_type": "stream",
     "text": [
      "Epoch 1/10\n",
      "\u001b[1m100/100\u001b[0m \u001b[32m━━━━━━━━━━━━━━━━━━━━\u001b[0m\u001b[37m\u001b[0m \u001b[1m1s\u001b[0m 3ms/step - accuracy: 0.1987 - loss: 2.9146 - val_accuracy: 0.5822 - val_loss: 1.6314\n",
      "Epoch 2/10\n",
      "\u001b[1m100/100\u001b[0m \u001b[32m━━━━━━━━━━━━━━━━━━━━\u001b[0m\u001b[37m\u001b[0m \u001b[1m0s\u001b[0m 2ms/step - accuracy: 0.5958 - loss: 1.4756 - val_accuracy: 0.7228 - val_loss: 1.0357\n",
      "Epoch 3/10\n",
      "\u001b[1m100/100\u001b[0m \u001b[32m━━━━━━━━━━━━━━━━━━━━\u001b[0m\u001b[37m\u001b[0m \u001b[1m0s\u001b[0m 2ms/step - accuracy: 0.7047 - loss: 1.0170 - val_accuracy: 0.7513 - val_loss: 0.8436\n",
      "Epoch 4/10\n",
      "\u001b[1m100/100\u001b[0m \u001b[32m━━━━━━━━━━━━━━━━━━━━\u001b[0m\u001b[37m\u001b[0m \u001b[1m0s\u001b[0m 3ms/step - accuracy: 0.7428 - loss: 0.8583 - val_accuracy: 0.7925 - val_loss: 0.7355\n",
      "Epoch 5/10\n",
      "\u001b[1m100/100\u001b[0m \u001b[32m━━━━━━━━━━━━━━━━━━━━\u001b[0m\u001b[37m\u001b[0m \u001b[1m0s\u001b[0m 3ms/step - accuracy: 0.7691 - loss: 0.7620 - val_accuracy: 0.8094 - val_loss: 0.6680\n",
      "Epoch 6/10\n",
      "\u001b[1m100/100\u001b[0m \u001b[32m━━━━━━━━━━━━━━━━━━━━\u001b[0m\u001b[37m\u001b[0m \u001b[1m0s\u001b[0m 2ms/step - accuracy: 0.7889 - loss: 0.7030 - val_accuracy: 0.8297 - val_loss: 0.5971\n",
      "Epoch 7/10\n",
      "\u001b[1m100/100\u001b[0m \u001b[32m━━━━━━━━━━━━━━━━━━━━\u001b[0m\u001b[37m\u001b[0m \u001b[1m0s\u001b[0m 4ms/step - accuracy: 0.7941 - loss: 0.6731 - val_accuracy: 0.8444 - val_loss: 0.5475\n",
      "Epoch 8/10\n",
      "\u001b[1m100/100\u001b[0m \u001b[32m━━━━━━━━━━━━━━━━━━━━\u001b[0m\u001b[37m\u001b[0m \u001b[1m0s\u001b[0m 3ms/step - accuracy: 0.8104 - loss: 0.6116 - val_accuracy: 0.8500 - val_loss: 0.5155\n",
      "Epoch 9/10\n",
      "\u001b[1m100/100\u001b[0m \u001b[32m━━━━━━━━━━━━━━━━━━━━\u001b[0m\u001b[37m\u001b[0m \u001b[1m0s\u001b[0m 3ms/step - accuracy: 0.8334 - loss: 0.5614 - val_accuracy: 0.8628 - val_loss: 0.4846\n",
      "Epoch 10/10\n",
      "\u001b[1m100/100\u001b[0m \u001b[32m━━━━━━━━━━━━━━━━━━━━\u001b[0m\u001b[37m\u001b[0m \u001b[1m0s\u001b[0m 3ms/step - accuracy: 0.8355 - loss: 0.5376 - val_accuracy: 0.8697 - val_loss: 0.4546\n"
     ]
    }
   ],
   "source": [
    "# Step 10: Train the model\n",
    "history = model.fit(X_train, y_train, epochs=10, batch_size=128, validation_split=0.2, verbose=1)"
   ]
  },
  {
   "cell_type": "code",
   "execution_count": 11,
   "id": "ae188374-9b5b-4960-b706-f7eb24d141a8",
   "metadata": {},
   "outputs": [
    {
     "name": "stdout",
     "output_type": "stream",
     "text": [
      "\u001b[1m125/125\u001b[0m \u001b[32m━━━━━━━━━━━━━━━━━━━━\u001b[0m\u001b[37m\u001b[0m \u001b[1m0s\u001b[0m 936us/step - accuracy: 0.8755 - loss: 0.4298\n",
      "Test Accuracy: 0.8758\n"
     ]
    }
   ],
   "source": [
    "# Step 11: Evaluate the model on test data\n",
    "test_loss, test_acc = model.evaluate(X_test, y_test)\n",
    "print(f\"Test Accuracy: {test_acc:.4f}\")"
   ]
  },
  {
   "cell_type": "code",
   "execution_count": 12,
   "id": "a3a272d3-6563-458c-9de2-bda893ee42bf",
   "metadata": {},
   "outputs": [
    {
     "data": {
      "image/png": "[encoded data removed]",
      "text/plain": [
       "<Figure size 432x288 with 1 Axes>"
      ]
     },
     "metadata": {
      "needs_background": "light"
     },
     "output_type": "display_data"
    }
   ],
   "source": [
    "# Step 12: Plot Training and Validation Accuracy\n",
    "plt.plot(history.history['accuracy'], label='Train Accuracy')\n",
    "plt.plot(history.history['val_accuracy'], label='Validation Accuracy')\n",
    "plt.xlabel('Epoch')\n",
    "plt.ylabel('Accuracy')\n",
    "plt.title('Training vs Validation Accuracy')\n",
    "plt.legend()\n",
    "plt.show()"
   ]
  },
  {
   "cell_type": "code",
   "execution_count": 13,
   "id": "3a1101e0-b8e8-4e95-8275-0d88b44daa72",
   "metadata": {},
   "outputs": [
    {
     "name": "stdout",
     "output_type": "stream",
     "text": [
      "\u001b[1m1/1\u001b[0m \u001b[32m━━━━━━━━━━━━━━━━━━━━\u001b[0m\u001b[37m\u001b[0m \u001b[1m0s\u001b[0m 55ms/step\n"
     ]
    }
   ],
   "source": [
    "# Step 13: Predict on a few test samples\n",
    "predictions = model.predict(X_test[:5])"
   ]
  },
  {
   "cell_type": "code",
   "execution_count": 14,
   "id": "9c061896-3d77-4ee4-8064-99bb0adfb276",
   "metadata": {},
   "outputs": [
    {
     "name": "stdout",
     "output_type": "stream",
     "text": [
      "Predicted: Z, Actual: T\n",
      "Predicted: T, Actual: L\n",
      "Predicted: A, Actual: A\n",
      "Predicted: E, Actual: E\n",
      "Predicted: Q, Actual: Q\n"
     ]
    }
   ],
   "source": [
    "# Step 14: Display predictions along with actual labels\n",
    "for i in range(5):\n",
    "    print(f\"Predicted: {chr(np.argmax(predictions[i]) + 65)}, Actual: {chr(np.argmax(y_test[i]) + 65)}\")"
   ]
  }
 ],
 "metadata": {
  "kernelspec": {
   "display_name": "Python 3",
   "language": "python",
   "name": "python3"
  },
  "language_info": {
   "codemirror_mode": {
    "name": "ipython",
    "version": 3
   },
   "file_extension": ".py",
   "mimetype": "text/x-python",
   "name": "python",
   "nbconvert_exporter": "python",
   "pygments_lexer": "ipython3",
   "version": "3.10.4"
  }
 },
 "nbformat": 4,
 "nbformat_minor": 5
}
