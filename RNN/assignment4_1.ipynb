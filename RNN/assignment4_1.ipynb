{
 "cells": [
  {
   "cell_type": "code",
   "execution_count": null,
   "id": "390ed37a-5035-4090-9f67-bada422b79d4",
   "metadata": {},
   "outputs": [],
   "source": [
    "pip install --upgrade pip"
   ]
  },
  {
   "cell_type": "code",
   "execution_count": null,
   "id": "bf4e9abb-1b62-4d7b-9a15-a88a29160f8a",
   "metadata": {},
   "outputs": [],
   "source": [
    "!pip install yfinance --quiet "
   ]
  },
  {
   "cell_type": "code",
   "execution_count": null,
   "id": "08cd208a-1829-462a-bad3-ef84a4902e2d",
   "metadata": {},
   "outputs": [],
   "source": [
    "import yfinance as yf\n",
    "import numpy as np\n",
    "import pandas as pd\n",
    "import matplotlib.pyplot as plt\n",
    "\n",
    "from sklearn.preprocessing import MinMaxScaler\n",
    "from tensorflow.keras.models import Sequential\n",
    "from tensorflow.keras.layers import SimpleRNN, Dense"
   ]
  },
  {
   "cell_type": "code",
   "execution_count": null,
   "id": "cf835375-6b5f-454e-b885-bf47113d74cb",
   "metadata": {},
   "outputs": [],
   "source": [
    "# Download 5 years of Google (GOOGL) stock data\n",
    "data = yf.download('GOOGL', start='2018-01-01', end='2023-12-31')\n",
    "data = data[['Close']]  # We'll use only the 'Close' price\n",
    "data.head()"
   ]
  },
  {
   "cell_type": "code",
   "execution_count": null,
   "id": "44e96d85-710f-487d-8abf-9966f119ffc7",
   "metadata": {},
   "outputs": [],
   "source": [
    "# Normalize data\n",
    "scaler = MinMaxScaler()\n",
    "scaled_data = scaler.fit_transform(data)"
   ]
  },
  {
   "cell_type": "code",
   "execution_count": null,
   "id": "85812113-ad84-44d4-9202-c2d872bfb278",
   "metadata": {},
   "outputs": [],
   "source": [
    "# Create sequences\n",
    "X = []\n",
    "y = []\n",
    "seq_len = 60\n",
    "\n",
    "for i in range(seq_len, len(scaled_data)):\n",
    "    X.append(scaled_data[i - seq_len:i])\n",
    "    y.append(scaled_data[i])\n",
    "\n",
    "X = np.array(X)\n",
    "y = np.array(y)"
   ]
  },
  {
   "cell_type": "code",
   "execution_count": null,
   "id": "0138367f-fab8-4633-96a8-1930e6b4d300",
   "metadata": {},
   "outputs": [],
   "source": [
    "split = int(0.8 * len(X))\n",
    "X_train, X_test = X[:split], X[split:]\n",
    "y_train, y_test = y[:split], y[split:]"
   ]
  },
  {
   "cell_type": "code",
   "execution_count": null,
   "id": "033ce4bf-2588-4e6b-8bca-4a2b16ea6846",
   "metadata": {},
   "outputs": [],
   "source": [
    "model = Sequential([\n",
    "    SimpleRNN(50, activation='tanh', return_sequences=False, input_shape=(X.shape[1], 1)),\n",
    "    Dense(1)\n",
    "])"
   ]
  },
  {
   "cell_type": "code",
   "execution_count": null,
   "id": "e6c2b397-6f26-4977-bd0a-25a9dc604f6a",
   "metadata": {},
   "outputs": [],
   "source": [
    "model.compile(optimizer='adam', loss='mean_squared_error')"
   ]
  },
  {
   "cell_type": "code",
   "execution_count": null,
   "id": "b352f1e4-d9be-4963-9709-bcb22f0ecf41",
   "metadata": {},
   "outputs": [],
   "source": [
    "history = model.fit(X_train, y_train, epochs=10, batch_size=32, validation_data=(X_test, y_test))"
   ]
  },
  {
   "cell_type": "code",
   "execution_count": null,
   "id": "833f9072-6ce4-4013-9056-329d2e95f5a1",
   "metadata": {},
   "outputs": [],
   "source": [
    "# Predict\n",
    "predicted = model.predict(X_test)\n",
    "predicted = scaler.inverse_transform(predicted)\n",
    "actual = scaler.inverse_transform(y_test)\n",
    "\n",
    "# Plot\n",
    "plt.figure(figsize=(10, 5))\n",
    "plt.plot(actual, label='Actual')\n",
    "plt.plot(predicted, label='Predicted')\n",
    "plt.title('Google Stock Price Prediction')\n",
    "plt.xlabel('Time')\n",
    "plt.ylabel('Price')\n",
    "plt.legend()\n",
    "plt.show()"
   ]
  }
 ],
 "metadata": {
  "kernelspec": {
   "display_name": "Python 3 (ipykernel)",
   "language": "python",
   "name": "python3"
  },
  "language_info": {
   "codemirror_mode": {
    "name": "ipython",
    "version": 3
   },
   "file_extension": ".py",
   "mimetype": "text/x-python",
   "name": "python",
   "nbconvert_exporter": "python",
   "pygments_lexer": "ipython3",
   "version": "3.12.3"
  }
 },
 "nbformat": 4,
 "nbformat_minor": 5
}
