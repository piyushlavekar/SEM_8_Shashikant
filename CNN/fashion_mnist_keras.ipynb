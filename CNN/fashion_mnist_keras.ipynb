{
  "nbformat": 4,
  "nbformat_minor": 0,
  "metadata": {
    "colab": {
      "provenance": [],
      "gpuType": "T4"
    },
    "kernelspec": {
      "name": "python3",
      "display_name": "Python 3"
    },
    "language_info": {
      "name": "python"
    },
    "accelerator": "GPU"
  },
  "cells": [
    {
      "cell_type": "code",
      "execution_count": null,
      "metadata": {
        "id": "fpg2eOiUvTuz"
      },
      "outputs": [],
      "source": [
        "import pandas as pd\n",
        "import numpy as np"
      ]
    },
    {
      "cell_type": "code",
      "source": [
        "from keras import utils\n",
        "\n",
        "train_ds = pd.read_csv(\"fashion-mnist_train.csv\")\n",
        "train_ds.dropna(inplace=True)\n",
        "train_y = train_ds[\"label\"].values\n",
        "train_y = utils.to_categorical(train_y, num_classes=10)\n",
        "train_x = train_ds.drop(\"label\", axis=1).values\n",
        "train_x = train_x.reshape((-1, 28, 28, 1)) / 255.0\n",
        "\n",
        "test_ds = pd.read_csv(\"fashion-mnist_test.csv\")\n",
        "test_ds.dropna(inplace=True)\n",
        "test_y = test_ds[\"label\"].values\n",
        "test_y = utils.to_categorical(test_y, num_classes=10)\n",
        "test_x = test_ds.drop(\"label\", axis=1).values\n",
        "test_x = test_x.reshape((-1, 28, 28, 1)) / 255.0\n",
        "\n",
        "print(train_x.shape)\n",
        "print(train_y.shape)\n",
        "print(test_x.shape)\n",
        "print(test_y.shape)"
      ],
      "metadata": {
        "id": "HSUdyu6lxjfY"
      },
      "execution_count": null,
      "outputs": []
    },
    {
      "cell_type": "code",
      "source": [
        "from keras import Sequential\n",
        "from keras import layers\n",
        "\n",
        "model = Sequential([\n",
        "    layers.Input(shape=(28, 28, 1)),\n",
        "    layers.Conv2D(16, kernel_size=3, strides=1, activation=\"relu\", input_shape=(28, 28, 1)),\n",
        "    layers.MaxPooling2D(pool_size=2),\n",
        "    layers.Conv2D(32, kernel_size=3, strides=1, activation=\"relu\"),\n",
        "    layers.MaxPooling2D(pool_size=2),\n",
        "    layers.Flatten(),\n",
        "    layers.Dense(128, activation=\"relu\"),\n",
        "    layers.Dense(10, activation=\"softmax\")\n",
        "])\n",
        "model.summary()"
      ],
      "metadata": {
        "id": "dDk7Fx1Nv24m"
      },
      "execution_count": null,
      "outputs": []
    },
    {
      "cell_type": "code",
      "source": [
        "model.compile(loss=\"categorical_crossentropy\", optimizer=\"adam\", metrics=[\"acc\"])"
      ],
      "metadata": {
        "id": "e5eUOEmCwyWf"
      },
      "execution_count": null,
      "outputs": []
    },
    {
      "cell_type": "code",
      "source": [
        "model.fit(train_x, train_y, batch_size=32, epochs=10, validation_data=(test_x, test_y))"
      ],
      "metadata": {
        "id": "xfg6O9fiypMP"
      },
      "execution_count": null,
      "outputs": []
    },
    {
      "cell_type": "code",
      "source": [
        "from sklearn.metrics import classification_report\n",
        "\n",
        "y_pred = model.predict(test_x)\n",
        "y_pred = np.argmax(y_pred, axis=1)\n",
        "test_y = np.argmax(test_y, axis=1)\n",
        "print(classification_report(test_y, y_pred))"
      ],
      "metadata": {
        "id": "0Q55xUHHytru"
      },
      "execution_count": null,
      "outputs": []
    }
  ]
}